{
 "cells": [
  {
   "cell_type": "code",
   "execution_count": 1,
   "id": "1dc803a9-f479-4606-ab90-34088bb380bf",
   "metadata": {},
   "outputs": [],
   "source": [
    "import os\n",
    "from PIL import Image\n",
    "import cv2\n",
    "import numpy as np"
   ]
  },
  {
   "cell_type": "code",
   "execution_count": 16,
   "id": "f7ddcbce-451b-40b1-825d-3e7fadaa5882",
   "metadata": {},
   "outputs": [],
   "source": [
    "source_folder = 'C:/Users/islam/OneDrive/Desktop/ICE-3208/source folder'\n",
    "color_transform = 'C:/Users/islam/OneDrive/Desktop/ICE-3208/destination folder/color transform'\n",
    "filtered = 'C:/Users/islam/OneDrive/Desktop/ICE-3208/destination folder/filtered'\n",
    "normalized = 'C:/Users/islam/OneDrive/Desktop/ICE-3208/destination folder/normalized'\n",
    "resized = 'C:/Users/islam/OneDrive/Desktop/ICE-3208/destination folder/resized'"
   ]
  },
  {
   "cell_type": "code",
   "execution_count": 17,
   "id": "03ee7173-9a32-4785-a92a-4906a53dac10",
   "metadata": {},
   "outputs": [],
   "source": [
    "image_size = 300"
   ]
  },
  {
   "cell_type": "code",
   "execution_count": 22,
   "id": "beabeebb-a1be-454e-9c88-9163e7ae96d9",
   "metadata": {},
   "outputs": [],
   "source": [
    "for filename in os.listdir(source_folder):\n",
    "    if filename.endswith('.jpg') or filename.endswith('.jpeg'):\n",
    "        image_path = os.path.join(source_folder, filename)\n",
    "        with Image.open(image_path) as img:\n",
    "            resized_image = img.resize((image_size, image_size))\n",
    "            resized_image = np.array(resized_image)\n",
    "            resized_path = os.path.join(resized, filename)\n",
    "            cv2.imwrite(resized_path, resized_image)\n",
    "\n",
    "\n",
    "            gray_image = cv2.cvtColor(resized_image, cv2.COLOR_BGR2GRAY)\n",
    "            color_path = os.path.join(color_transform, filename)\n",
    "            cv2.imwrite(color_path, gray_image)\n",
    "\n",
    "\n",
    "            sharpened_image = cv2.GaussianBlur(resized_image, (3, 3), 0)\n",
    "            filtered_path =  os.path.join(filtered, filename)\n",
    "            cv2.imwrite(filtered_path, sharpened_image)\n",
    "\n",
    "\n",
    "            normalize_image = (gray_image - gray_image.min()) / (gray_image.max() - gray_image.min()) * 255\n",
    "            norm_path =  os.path.join(normalized, filename)\n",
    "            cv2.imwrite(norm_path, normalize_image)"
   ]
  },
  {
   "cell_type": "code",
   "execution_count": null,
   "id": "b3f0b1fe-e921-4ce9-af30-3889198aa613",
   "metadata": {},
   "outputs": [],
   "source": []
  }
 ],
 "metadata": {
  "kernelspec": {
   "display_name": "Python 3 (ipykernel)",
   "language": "python",
   "name": "python3"
  },
  "language_info": {
   "codemirror_mode": {
    "name": "ipython",
    "version": 3
   },
   "file_extension": ".py",
   "mimetype": "text/x-python",
   "name": "python",
   "nbconvert_exporter": "python",
   "pygments_lexer": "ipython3",
   "version": "3.11.7"
  }
 },
 "nbformat": 4,
 "nbformat_minor": 5
}
