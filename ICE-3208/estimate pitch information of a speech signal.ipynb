{
 "cells": [
  {
   "cell_type": "code",
   "execution_count": 1,
   "id": "23b00344-94fa-4b56-8cf6-05c09af66147",
   "metadata": {},
   "outputs": [],
   "source": [
    "import wave\n",
    "import numpy as np\n",
    "import librosa\n",
    "from scipy.io import wavfile"
   ]
  },
  {
   "cell_type": "code",
   "execution_count": 2,
   "id": "f75555ff-1b43-46f3-88ab-3a0e8eae316f",
   "metadata": {},
   "outputs": [
    {
     "name": "stderr",
     "output_type": "stream",
     "text": [
      "C:\\Users\\islam\\AppData\\Local\\Temp\\ipykernel_13208\\4137076161.py:1: WavFileWarning: Chunk (non-data) not understood, skipping it.\n",
      "  fs, signal = wavfile.read(\"harvard.wav\")\n"
     ]
    }
   ],
   "source": [
    "fs, signal = wavfile.read(\"harvard.wav\")"
   ]
  },
  {
   "cell_type": "code",
   "execution_count": 3,
   "id": "443b1cd8-b8c0-45b3-b176-0f8f839f6a35",
   "metadata": {},
   "outputs": [],
   "source": [
    "def estimate_pitch(signal, sr):\n",
    "    # Get the autocorrelation of the signal\n",
    "    autocorr = librosa.autocorrelate(signal)\n",
    "\n",
    "    # Get the fundamental frequency (pitch) using the autocorrelation\n",
    "    fundamental_freq = librosa.pitch_tuning(autocorr)\n",
    "\n",
    "    return fundamental_freq"
   ]
  },
  {
   "cell_type": "code",
   "execution_count": 4,
   "id": "d8358e30-7405-4e52-b2a5-baa5794368c2",
   "metadata": {},
   "outputs": [],
   "source": [
    "pitch = estimate_pitch(signal, fs)"
   ]
  },
  {
   "cell_type": "code",
   "execution_count": 5,
   "id": "af5e4774-0197-49b6-9502-a529198df386",
   "metadata": {},
   "outputs": [
    {
     "name": "stdout",
     "output_type": "stream",
     "text": [
      "Estimated fundamental frequency (pitch): -0.38 Hz\n"
     ]
    }
   ],
   "source": [
    "print(\"Estimated fundamental frequency (pitch): {:.2f} Hz\".format(pitch))"
   ]
  },
  {
   "cell_type": "code",
   "execution_count": null,
   "id": "23bd66c1-0b3a-4ae4-b469-ef06f37087e0",
   "metadata": {},
   "outputs": [],
   "source": []
  }
 ],
 "metadata": {
  "kernelspec": {
   "display_name": "Python 3 (ipykernel)",
   "language": "python",
   "name": "python3"
  },
  "language_info": {
   "codemirror_mode": {
    "name": "ipython",
    "version": 3
   },
   "file_extension": ".py",
   "mimetype": "text/x-python",
   "name": "python",
   "nbconvert_exporter": "python",
   "pygments_lexer": "ipython3",
   "version": "3.11.7"
  }
 },
 "nbformat": 4,
 "nbformat_minor": 5
}
